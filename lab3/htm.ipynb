{
 "cells": [
  {
   "cell_type": "code",
   "execution_count": null,
   "metadata": {},
   "outputs": [],
   "source": [
    "from pymongo import MongoClient\n",
    "from concurrent.futures import ThreadPoolExecutor\n",
    "from threading import Lock\n",
    "import time\n",
    "import math\n",
    "import matplotlib.pyplot as plt\n",
    "import os"
   ]
  },
  {
   "attachments": {},
   "cell_type": "markdown",
   "metadata": {},
   "source": [
    "Створення конектора до серверу з базою даних **mongodb**."
   ]
  },
  {
   "cell_type": "code",
   "execution_count": null,
   "metadata": {},
   "outputs": [],
   "source": [
    "lock = Lock()\n",
    "\n",
    "MONGODB_URI = os.environ.get(\"MONGODB_URI\", \"mongodb://localhost:27017\")\n",
    "client = MongoClient(MONGODB_URI, username=\"root\", password=\"root\")\n",
    "db = client.cafes\n",
    "cafes = db.cafes"
   ]
  },
  {
   "attachments": {},
   "cell_type": "markdown",
   "metadata": {},
   "source": [
    "Функції для роботи з базою даних. Дві основні операції: вибір(select) та оновлення(update)."
   ]
  },
  {
   "cell_type": "code",
   "execution_count": null,
   "metadata": {},
   "outputs": [],
   "source": [
    "def change_rating(from_cafe, to_cafe, amount):\n",
    "    cafe = cafes.find_one({'name': from_cafe})\n",
    "    \n",
    "    lock.acquire()\n",
    "    cafes.update_one({'name': from_cafe}, {'$inc': {'rating': -amount}})\n",
    "    cafes.update_one({'name': to_cafe}, {'$inc': {'rating': amount}})\n",
    "    lock.release()\n",
    "\n",
    "def increase_rating(to_cafe, amount):\n",
    "    lock.acquire()\n",
    "    cafes.update_one({'name': to_account_name}, {'$inc': {'rating': amount}})\n",
    "    lock.release()"
   ]
  },
  {
   "attachments": {},
   "cell_type": "markdown",
   "metadata": {},
   "source": [
    "Функція для запуску futures."
   ]
  },
  {
   "cell_type": "code",
   "execution_count": null,
   "metadata": {},
   "outputs": [],
   "source": [
    "def run_transactions(num_threads=50, num_transactions=100):\n",
    "    with ThreadPoolExecutor(max_workers=num_threads) as executor:\n",
    "        futures = []\n",
    "        start_time = time.time()\n",
    "        \n",
    "        for _ in range(num_transactions):\n",
    "            futures.append(executor.submit(lambda: change_rating(\"Starbucks\", \"Cafe Coffee Day\", 0.01)))\n",
    "            futures.append(executor.submit(lambda: change_rating(\"Cafe Coffee Day\", \"Dunkin Donuts\", 0.01)))\n",
    "            futures.append(executor.submit(lambda: change_rating(\"Dunkin Donuts\", \"Tim Hortons\", 0.01)))\n",
    "\n",
    "        for _ in range(math.floor(num_transactions / 2)):\n",
    "            futures.append(executor.submit(lambda: increase_rating(\"Starbucks\", 0.01)))\n",
    "            futures.append(executor.submit(lambda: increase_rating(\"Cafe Coffee Day\", 0.01)))\n",
    "        \n",
    "        for future in futures:\n",
    "            future.result()\n",
    "\n",
    "        executor.shutdown()\n",
    "        \n",
    "        end_time = time.time()\n",
    "        return end_time - start_time"
   ]
  },
  {
   "attachments": {},
   "cell_type": "markdown",
   "metadata": {},
   "source": [
    "Основний цикл роботи усієї програми."
   ]
  },
  {
   "cell_type": "code",
   "execution_count": null,
   "metadata": {},
   "outputs": [],
   "source": [
    "num_threads = 50\n",
    "num_transactions = 100\n",
    "iterations = 50\n",
    "times = []\n",
    "for i in range(iterations):\n",
    "    time_taken = run_transactions()\n",
    "    times.append(time_taken)\n",
    "    print(f'Completed {num_transactions + num_transactions / 2} transactions in {i+1} iteration in {time_taken:.4f} seconds')"
   ]
  },
  {
   "attachments": {},
   "cell_type": "markdown",
   "metadata": {},
   "source": [
    "Побудова графіка роботи програми."
   ]
  },
  {
   "cell_type": "code",
   "execution_count": null,
   "metadata": {},
   "outputs": [],
   "source": [
    "fig, ax = plt.subplots()\n",
    "fig.set_size_inches(20.5, 9.5)\n",
    "ax.plot(range(1, iterations+1), times, label='htm')\n",
    "ax.set_xlabel('Iterations')\n",
    "ax.set_ylabel('Time taken (seconds)')\n",
    "\n",
    "ax.set_title('Hardware Transactional Memory')\n",
    "ax.legend()\n",
    "plt.show()"
   ]
  }
 ],
 "metadata": {
  "kernelspec": {
   "display_name": "Python 3",
   "language": "python",
   "name": "python3"
  },
  "language_info": {
   "codemirror_mode": {
    "name": "ipython",
    "version": 3
   },
   "file_extension": ".py",
   "mimetype": "text/x-python",
   "name": "python",
   "nbconvert_exporter": "python",
   "pygments_lexer": "ipython3",
   "version": "3.8.16"
  },
  "orig_nbformat": 4
 },
 "nbformat": 4,
 "nbformat_minor": 2
}
