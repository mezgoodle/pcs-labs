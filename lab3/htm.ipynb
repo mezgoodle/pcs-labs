{
 "cells": [
  {
   "cell_type": "code",
   "execution_count": 1,
   "metadata": {},
   "outputs": [],
   "source": [
    "from pymongo import MongoClient\n",
    "from concurrent.futures import ThreadPoolExecutor\n",
    "from threading import Lock\n",
    "import time\n",
    "import math\n",
    "import matplotlib.pyplot as plt\n",
    "import os"
   ]
  },
  {
   "attachments": {},
   "cell_type": "markdown",
   "metadata": {},
   "source": [
    "Конфігурація та підключення до бази даних"
   ]
  },
  {
   "cell_type": "code",
   "execution_count": 2,
   "metadata": {},
   "outputs": [],
   "source": [
    "lock = Lock()\n",
    "\n",
    "MONGODB_URI = os.environ.get(\"MONGODB_URI\", \"mongodb://localhost:27017\")\n",
    "client = pymongo.MongoClient(MONGODB_URI, username=\"root\", password=\"root\")\n",
    "db = client.cafes\n",
    "cafes = db.cafes"
   ]
  },
  {
   "attachments": {},
   "cell_type": "markdown",
   "metadata": {},
   "source": [
    "Тестові операції для роботи з СУБД"
   ]
  },
  {
   "cell_type": "code",
   "execution_count": 3,
   "metadata": {},
   "outputs": [],
   "source": [
    "\n",
    "def transfer_funds(from_account, to_account, amount):\n",
    "    cafe = cafes.find_one({'name': from_account})\n",
    "    from pprint import pprint\n",
    "    pprint(cafe)\n",
    "    \n",
    "    lock.acquire()\n",
    "    cafes.update_one({'name': from_account}, {'$inc': {'rating': -amount}})\n",
    "    cafes.update_one({'name': to_account}, {'$inc': {'rating': amount}})\n",
    "    lock.release()\n",
    "\n",
    "def credit_funds(to_account_name, amount):\n",
    "    lock.acquire()\n",
    "    cafes.update_one({'name': to_account_name}, {'$inc': {'rating': amount}})\n",
    "    lock.release()"
   ]
  },
  {
   "attachments": {},
   "cell_type": "markdown",
   "metadata": {},
   "source": [
    "Бенчмарк"
   ]
  },
  {
   "cell_type": "code",
   "execution_count": 4,
   "metadata": {},
   "outputs": [],
   "source": [
    "def run_transactions(num_threads, num_transactions):\n",
    "    with ThreadPoolExecutor(max_workers=num_threads) as executor:\n",
    "        futures = []\n",
    "        start_time = time.time()\n",
    "        \n",
    "        for _ in range(num_transactions):\n",
    "            futures.append(executor.submit(lambda: transfer_funds(1, 2, 10)))\n",
    "            futures.append(executor.submit(lambda: transfer_funds(2, 3, 10)))\n",
    "            futures.append(executor.submit(lambda: transfer_funds(3, 4, 10)))\n",
    "\n",
    "        for _ in range(math.floor(num_transactions / 2)):\n",
    "            futures.append(executor.submit(lambda: credit_funds('Max', 10)))\n",
    "            futures.append(executor.submit(lambda: credit_funds('John', 10)))\n",
    "        \n",
    "        for future in futures:\n",
    "            future.result()\n",
    "\n",
    "        executor.shutdown()\n",
    "        \n",
    "        end_time = time.time()\n",
    "        return end_time - start_time"
   ]
  },
  {
   "attachments": {},
   "cell_type": "markdown",
   "metadata": {},
   "source": [
    "Main"
   ]
  },
  {
   "cell_type": "code",
   "execution_count": null,
   "metadata": {},
   "outputs": [],
   "source": [
    "num_threads = 50\n",
    "num_transactions = 100\n",
    "iterations = 50\n",
    "times = []\n",
    "for i in range(iterations):\n",
    "    time_taken = run_transactions(num_threads, num_transactions)\n",
    "    times.append(time_taken)\n",
    "    print(f'Completed {num_transactions + num_transactions / 2} transactions in {i+1} iteration in {time_taken:.4f} seconds')"
   ]
  },
  {
   "attachments": {},
   "cell_type": "markdown",
   "metadata": {},
   "source": [
    "Побудова графіків"
   ]
  },
  {
   "cell_type": "code",
   "execution_count": null,
   "metadata": {},
   "outputs": [],
   "source": [
    "fig, ax = plt.subplots()\n",
    "fig.set_size_inches(20.5, 9.5)\n",
    "ax.plot(range(1, iterations+1), times, label='htm')\n",
    "ax.set_xlabel('Iteration')\n",
    "ax.set_ylabel('Time taken (seconds)')\n",
    "\n",
    "ax.set_title('hardware transactional memory')\n",
    "ax.legend()\n",
    "plt.show()"
   ]
  }
 ],
 "metadata": {
  "kernelspec": {
   "display_name": "Python 3",
   "language": "python",
   "name": "python3"
  },
  "language_info": {
   "codemirror_mode": {
    "name": "ipython",
    "version": 3
   },
   "file_extension": ".py",
   "mimetype": "text/x-python",
   "name": "python",
   "nbconvert_exporter": "python",
   "pygments_lexer": "ipython3",
   "version": "3.8.13"
  },
  "orig_nbformat": 4
 },
 "nbformat": 4,
 "nbformat_minor": 2
}
